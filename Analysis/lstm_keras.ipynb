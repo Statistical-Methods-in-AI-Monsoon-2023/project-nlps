{
 "cells": [
  {
   "cell_type": "code",
   "execution_count": 1,
   "metadata": {},
   "outputs": [],
   "source": [
    "import tqdm as notebook_tqdm\n",
    "import pickle\n"
   ]
  },
  {
   "cell_type": "code",
   "execution_count": 2,
   "metadata": {},
   "outputs": [
    {
     "name": "stderr",
     "output_type": "stream",
     "text": [
      "Found cached dataset dbpedia_14 (/home/sriteja/.cache/huggingface/datasets/dbpedia_14/dbpedia_14/2.0.0/01dab9e10d969eadcdbc918be5a09c9190a24caeae33b10eee8f367a1e3f1f0c)\n"
     ]
    },
    {
     "data": {
      "application/vnd.jupyter.widget-view+json": {
       "model_id": "e467e3dd9bc64b259cac5a4c86f39faf",
       "version_major": 2,
       "version_minor": 0
      },
      "text/plain": [
       "  0%|          | 0/2 [00:00<?, ?it/s]"
      ]
     },
     "metadata": {},
     "output_type": "display_data"
    }
   ],
   "source": [
    "from datasets import load_dataset\n",
    "\n",
    "dataset = load_dataset(\"dbpedia_14\")"
   ]
  },
  {
   "cell_type": "code",
   "execution_count": 3,
   "metadata": {},
   "outputs": [
    {
     "name": "stdout",
     "output_type": "stream",
     "text": [
      "DatasetDict({\n",
      "    train: Dataset({\n",
      "        features: ['label', 'title', 'content'],\n",
      "        num_rows: 560000\n",
      "    })\n",
      "    test: Dataset({\n",
      "        features: ['label', 'title', 'content'],\n",
      "        num_rows: 70000\n",
      "    })\n",
      "})\n"
     ]
    }
   ],
   "source": [
    "print(dataset)"
   ]
  },
  {
   "cell_type": "code",
   "execution_count": 4,
   "metadata": {},
   "outputs": [],
   "source": [
    "train_dataset = dataset['train']\n",
    "test_dataset = dataset['test']\n",
    "\n",
    "# Convert train and test datasets to arrays\n",
    "train_data_title = train_dataset['title']\n",
    "train_data_content = train_dataset['content']\n",
    "train_labels = train_dataset['label']\n",
    "test_data_title = test_dataset['title']\n",
    "test_data_content = test_dataset['content']\n",
    "test_labels = test_dataset['label']\n",
    "\n"
   ]
  },
  {
   "cell_type": "markdown",
   "metadata": {},
   "source": [
    "## Preprocess"
   ]
  },
  {
   "cell_type": "code",
   "execution_count": 5,
   "metadata": {},
   "outputs": [],
   "source": [
    "# load from pkl file\n",
    "with open('dbpedia_train_tokens.pkl', 'rb') as file:\n",
    "    tokens = pickle.load(file)\n",
    "    \n",
    "with open('dbpedia_test_tokens.pkl', 'rb') as file:\n",
    "    tokens_test = pickle.load(file)"
   ]
  },
  {
   "cell_type": "code",
   "execution_count": 6,
   "metadata": {},
   "outputs": [],
   "source": [
    "# in train data replace every 1000th word with UNK randomly\n",
    "\n",
    "import random\n",
    "\n",
    "for i in range(len(tokens)):\n",
    "    for j in range(len(tokens[i])):\n",
    "        if random.randint(1, 1000) == 1:\n",
    "            tokens[i][j] = 'UNK'\n",
    "        "
   ]
  },
  {
   "cell_type": "code",
   "execution_count": 7,
   "metadata": {},
   "outputs": [
    {
     "name": "stdout",
     "output_type": "stream",
     "text": [
      "Max length:  1473\n",
      "Min length:  3\n",
      "Number of sentences with length > 100:  1207\n",
      "558793\n",
      "558793\n",
      "69839\n",
      "69839\n"
     ]
    }
   ],
   "source": [
    "# find length of longest sentence\n",
    "max_len = 0\n",
    "for i in range(len(tokens)):\n",
    "    if len(tokens[i]) > max_len:\n",
    "        max_len = len(tokens[i])\n",
    "        \n",
    "# find length of shortest sentence\n",
    "min_len = 1000000\n",
    "for i in range(len(tokens)):\n",
    "    if len(tokens[i]) < min_len:\n",
    "        min_len = len(tokens[i])\n",
    "        \n",
    "print(\"Max length: \", max_len)\n",
    "print(\"Min length: \", min_len)\n",
    "\n",
    "# number of sentences with length > 100\n",
    "count = 0\n",
    "for i in range(len(tokens)):\n",
    "    if len(tokens[i]) > 100:\n",
    "        count += 1\n",
    "        \n",
    "print(\"Number of sentences with length > 100: \", count)\n",
    "\n",
    "# remove sentences with length > 100 along with their labels\n",
    "new_tokens = []\n",
    "new_labels = []\n",
    "for i in range(len(tokens)):\n",
    "    if len(tokens[i]) <= 100:\n",
    "        new_tokens.append(tokens[i])\n",
    "        new_labels.append(train_labels[i])\n",
    "        \n",
    "# remove so in test also\n",
    "new_tokens_test = []\n",
    "new_labels_test = []\n",
    "for i in range(len(tokens_test)):\n",
    "    if len(tokens_test[i]) <= 100:\n",
    "        new_tokens_test.append(tokens_test[i])\n",
    "        new_labels_test.append(test_labels[i])\n",
    "        \n",
    "print(len(new_tokens))\n",
    "print(len(new_labels))\n",
    "print(len(new_tokens_test))\n",
    "print(len(new_labels_test))"
   ]
  },
  {
   "cell_type": "code",
   "execution_count": 8,
   "metadata": {},
   "outputs": [
    {
     "name": "stdout",
     "output_type": "stream",
     "text": [
      "Max length:  507\n",
      "Min length:  4\n"
     ]
    }
   ],
   "source": [
    "# for tetst data\n",
    "# find length of longest sentence\n",
    "max_len_test = 0\n",
    "for i in range(len(tokens_test)):\n",
    "    if len(tokens_test[i]) > max_len_test:\n",
    "        max_len_test = len(tokens_test[i])\n",
    "        \n",
    "# find length of shortest sentence\n",
    "min_len_test = 1000000\n",
    "for i in range(len(tokens_test)):\n",
    "    if len(tokens_test[i]) < min_len_test:\n",
    "        min_len_test = len(tokens_test[i])\n",
    "        \n",
    "print(\"Max length: \", max_len_test)\n",
    "print(\"Min length: \", min_len_test)"
   ]
  },
  {
   "cell_type": "code",
   "execution_count": 9,
   "metadata": {},
   "outputs": [],
   "source": [
    "# add padding to all sentences and S and EOS tokens\n",
    "def padding(tokens, max_len):\n",
    "    for i in range(len(tokens)):\n",
    "        tokens[i] = ['S'] + tokens[i] + ['EOS']\n",
    "        while len(tokens[i]) < max_len:\n",
    "            tokens[i].append('PAD')\n",
    "    return tokens"
   ]
  },
  {
   "cell_type": "code",
   "execution_count": 10,
   "metadata": {},
   "outputs": [],
   "source": [
    "max_len = 102\n",
    "tokens = padding(new_tokens, max_len)\n",
    "tokens_test = padding(new_tokens_test, max_len)"
   ]
  },
  {
   "cell_type": "code",
   "execution_count": 11,
   "metadata": {},
   "outputs": [
    {
     "name": "stdout",
     "output_type": "stream",
     "text": [
      "523562\n",
      "lenticular\n",
      "694806\n",
      "36282\n",
      "442904\n",
      "454389\n",
      "341337\n",
      "439052\n"
     ]
    }
   ],
   "source": [
    "\n",
    "# Create a vocabulary by collecting unique words from the training data\n",
    "vocab = set()\n",
    "for token in tokens:\n",
    "    vocab.update(token)\n",
    "\n",
    "# Create a dictionary to map words to indices in the vocabulary\n",
    "word_to_idx = {word: idx for idx, word in enumerate(vocab)}\n",
    "idx_to_word = {idx: word for idx, word in enumerate(vocab)}\n",
    "\n",
    "print(word_to_idx['the'])\n",
    "print(idx_to_word[0])\n",
    "print(word_to_idx['NUM'])\n",
    "print(word_to_idx['UNK'])\n",
    "print(word_to_idx['PAD'])\n",
    "print(word_to_idx['S'])\n",
    "print(word_to_idx['EOS'])\n",
    "print(word_to_idx['MID'])"
   ]
  },
  {
   "cell_type": "code",
   "execution_count": 12,
   "metadata": {},
   "outputs": [],
   "source": [
    "batch_size = 32\n",
    "num_classes = 14\n",
    "vocab_size = len(vocab)\n",
    "num_epochs = 3\n",
    "learning_rate = 0.00001\n",
    "embedding_size = 300\n",
    "hidden_size = 128"
   ]
  },
  {
   "cell_type": "markdown",
   "metadata": {},
   "source": [
    "## Pytorch"
   ]
  },
  {
   "cell_type": "markdown",
   "metadata": {},
   "source": [
    "## Keras"
   ]
  },
  {
   "cell_type": "code",
   "execution_count": 13,
   "metadata": {},
   "outputs": [
    {
     "name": "stderr",
     "output_type": "stream",
     "text": [
      "2023-12-01 04:48:53.503300: I tensorflow/core/util/port.cc:110] oneDNN custom operations are on. You may see slightly different numerical results due to floating-point round-off errors from different computation orders. To turn them off, set the environment variable `TF_ENABLE_ONEDNN_OPTS=0`.\n",
      "2023-12-01 04:48:53.529506: I tensorflow/tsl/cuda/cudart_stub.cc:28] Could not find cuda drivers on your machine, GPU will not be used.\n",
      "2023-12-01 04:48:53.648352: I tensorflow/tsl/cuda/cudart_stub.cc:28] Could not find cuda drivers on your machine, GPU will not be used.\n",
      "2023-12-01 04:48:53.649080: I tensorflow/core/platform/cpu_feature_guard.cc:182] This TensorFlow binary is optimized to use available CPU instructions in performance-critical operations.\n",
      "To enable the following instructions: AVX2 AVX512F AVX512_VNNI FMA, in other operations, rebuild TensorFlow with the appropriate compiler flags.\n",
      "2023-12-01 04:48:54.452064: W tensorflow/compiler/tf2tensorrt/utils/py_utils.cc:38] TF-TRT Warning: Could not find TensorRT\n",
      "2023-12-01 04:49:10.680790: E tensorflow/compiler/xla/stream_executor/cuda/cuda_driver.cc:266] failed call to cuInit: CUDA_ERROR_NO_DEVICE: no CUDA-capable device is detected\n"
     ]
    }
   ],
   "source": [
    "import numpy as np\n",
    "import tensorflow as tf\n",
    "from tensorflow import keras\n",
    "from tensorflow.keras.models import Sequential\n",
    "from tensorflow.keras.layers import Embedding, LSTMCell, RNN, Dense\n",
    "from tensorflow.keras.optimizers import Adam\n",
    "from tensorflow.keras.utils import to_categorical\n",
    "\n",
    "# Convert tokens and labels to Keras format\n",
    "# Note: Ensure tokens and new_labels are numpy arrays\n",
    "X_train = [[word_to_idx.get(token, word_to_idx['UNK']) for token in sentence] for sentence in tokens]\n",
    "X_test = [[word_to_idx.get(token, word_to_idx['UNK']) for token in sentence] for sentence in tokens_test]\n",
    "X_train = np.array(X_train)\n",
    "X_test = np.array(X_test)\n",
    "\n",
    "# Convert labels to one-hot format\n",
    "y_train = to_categorical(new_labels, num_classes=num_classes)\n",
    "y_test = to_categorical(new_labels_test, num_classes=num_classes)\n",
    "\n",
    "# GPU Configuration\n",
    "physical_devices = tf.config.list_physical_devices('GPU')\n",
    "if len(physical_devices) > 0:\n",
    "    tf.config.experimental.set_memory_growth(physical_devices[0], True)"
   ]
  },
  {
   "cell_type": "code",
   "execution_count": 22,
   "metadata": {},
   "outputs": [],
   "source": [
    "# # Model\n",
    "# model = Sequential()\n",
    "# model.add(Embedding(input_dim=vocab_size, output_dim=embedding_size, mask_zero=True))\n",
    "# model.add(RNN(LSTMCell(hidden_size)))\n",
    "# model.add(Dense(num_classes, activation='softmax'))\n",
    "\n",
    "# model.compile(optimizer=Adam(learning_rate=learning_rate),\n",
    "#               loss='categorical_crossentropy',\n",
    "#               metrics=['accuracy'])"
   ]
  },
  {
   "cell_type": "code",
   "execution_count": 23,
   "metadata": {},
   "outputs": [
    {
     "name": "stdout",
     "output_type": "stream",
     "text": [
      "Epoch 1/3\n"
     ]
    },
    {
     "name": "stderr",
     "output_type": "stream",
     "text": [
      "2023-10-31 12:36:35.657519: I tensorflow/core/common_runtime/executor.cc:1197] [/device:CPU:0] (DEBUG INFO) Executor start aborting (this does not indicate an error and you can ignore this message): INVALID_ARGUMENT: You must feed a value for placeholder tensor 'Placeholder/_1' with dtype float and shape [32,14]\n",
      "\t [[{{node Placeholder/_1}}]]\n"
     ]
    },
    {
     "name": "stdout",
     "output_type": "stream",
     "text": [
      "    1/17462 [..............................] - ETA: 20:50:08 - loss: 2.6268 - accuracy: 0.0000e+00"
     ]
    },
    {
     "name": "stderr",
     "output_type": "stream",
     "text": [
      "2023-10-31 12:36:40.061046: I tensorflow/core/common_runtime/executor.cc:1197] [/device:CPU:0] (DEBUG INFO) Executor start aborting (this does not indicate an error and you can ignore this message): INVALID_ARGUMENT: You must feed a value for placeholder tensor 'Placeholder/_1' with dtype float and shape [32,14]\n",
      "\t [[{{node Placeholder/_1}}]]\n"
     ]
    },
    {
     "name": "stdout",
     "output_type": "stream",
     "text": [
      "    2/17462 [..............................] - ETA: 18:20:26 - loss: 2.6260 - accuracy: 0.0000e+00"
     ]
    },
    {
     "name": "stderr",
     "output_type": "stream",
     "text": [
      "2023-10-31 12:36:43.994149: I tensorflow/core/common_runtime/executor.cc:1197] [/device:CPU:0] (DEBUG INFO) Executor start aborting (this does not indicate an error and you can ignore this message): INVALID_ARGUMENT: You must feed a value for placeholder tensor 'Placeholder/_1' with dtype float and shape [32,14]\n",
      "\t [[{{node Placeholder/_1}}]]\n"
     ]
    }
   ],
   "source": [
    "# from tensorflow.keras.utils import Progbar\n",
    "\n",
    "# # Train model\n",
    "# for epoch in range(num_epochs):\n",
    "#     print(f'Epoch {epoch + 1}/{num_epochs}')\n",
    "    \n",
    "#     # Initialize Progbar with the total number of batches\n",
    "#     progbar = Progbar(len(X_train) // batch_size)\n",
    "    \n",
    "#     # Training\n",
    "#     for i in range(0, len(X_train), batch_size):\n",
    "#         X_batch = X_train[i:i + batch_size]\n",
    "#         y_batch = y_train[i:i + batch_size]\n",
    "        \n",
    "#         # Check batch size; skip if it's not 32\n",
    "#         if len(X_batch) != 32:\n",
    "#             continue\n",
    "        \n",
    "#         batch_loss, batch_acc = model.train_on_batch(X_batch, y_batch)\n",
    "        \n",
    "#         # Update progbar with the batch's metrics\n",
    "#         progbar.add(1, values=[('loss', batch_loss), ('accuracy', batch_acc)])\n",
    "    \n",
    "#     # Save the model after each epoch\n",
    "#     model.save(f\"dbpedia_keras_model_epoch_{epoch+1}.h5\")\n"
   ]
  },
  {
   "cell_type": "code",
   "execution_count": 14,
   "metadata": {},
   "outputs": [],
   "source": [
    "# load model lstm_dbpedia.keras\n",
    "from tensorflow.keras.models import load_model\n",
    "model = load_model('lstm_dbpedia.keras')"
   ]
  },
  {
   "cell_type": "code",
   "execution_count": 18,
   "metadata": {},
   "outputs": [
    {
     "data": {
      "image/png": "[encoded data removed]",
      "text/plain": [
       "<Figure size 640x480 with 1 Axes>"
      ]
     },
     "metadata": {},
     "output_type": "display_data"
    }
   ],
   "source": [
    "import matplotlib.pyplot as plt\n",
    "\n",
    "# Create a new model that outputs both the predictions and the embeddings\n",
    "# Assume 'embedding' is the name of your embedding layer\n",
    "embedding_output = model.get_layer('embedding').output\n",
    "grad_model = tf.keras.models.Model(inputs=model.input, outputs=[model.output, embedding_output])\n",
    "\n",
    "# Select a sample\n",
    "sample = X_test[0:1]\n",
    "\n",
    "# Compute the gradients\n",
    "with tf.GradientTape() as tape:\n",
    "    # Run this sample through the grad_model\n",
    "    predictions, embeddings = grad_model(sample)\n",
    "    # Choose the class with the highest probability\n",
    "    class_idx = np.argmax(predictions[0])\n",
    "    # Compute the loss\n",
    "    loss = predictions[:, class_idx]\n",
    "\n",
    "    # Ensure the embeddings are being watched\n",
    "    tape.watch(embeddings)\n",
    "\n",
    "# Get the gradients of the loss with respect to the embedding output\n",
    "gradients = tape.gradient(loss, embeddings)\n",
    "\n",
    "# Check if gradients are None\n",
    "if gradients is not None:\n",
    "    # Sum the gradients across the input sequence\n",
    "    summed_gradients = tf.reduce_sum(tf.abs(gradients), axis=-1).numpy()[0]\n",
    "\n",
    "    # Plot\n",
    "    plt.bar(range(len(summed_gradients)), summed_gradients)\n",
    "    plt.show()\n",
    "else:\n",
    "    print(\"Gradients could not be computed.\")\n"
   ]
  }
 ],
 "metadata": {
  "kernelspec": {
   "display_name": "Python 3",
   "language": "python",
   "name": "python3"
  },
  "language_info": {
   "codemirror_mode": {
    "name": "ipython",
    "version": 3
   },
   "file_extension": ".py",
   "mimetype": "text/x-python",
   "name": "python",
   "nbconvert_exporter": "python",
   "pygments_lexer": "ipython3",
   "version": "3.10.12"
  },
  "vscode": {
   "interpreter": {
    "hash": "b0fa6594d8f4cbf19f97940f81e996739fb7646882a419484c72d19e05852a7e"
   }
  }
 },
 "nbformat": 4,
 "nbformat_minor": 2
}
